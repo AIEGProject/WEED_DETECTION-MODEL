{
  "nbformat": 4,
  "nbformat_minor": 0,
  "metadata": {
    "colab": {
      "name": "dockleaves_classification.ipynb",
      "provenance": []
    },
    "kernelspec": {
      "name": "python3",
      "display_name": "Python 3"
    },
    "language_info": {
      "name": "python"
    }
  },
  "cells": [
    {
      "cell_type": "code",
      "metadata": {
        "colab": {
          "base_uri": "https://localhost:8080/"
        },
        "id": "HN8ebkAZwsHc",
        "outputId": "9d8baea5-706a-4d07-d1b4-c9bc1068f075"
      },
      "source": [
        "from google.colab import drive\n",
        "drive.mount('/content/drive')"
      ],
      "execution_count": null,
      "outputs": [
        {
          "output_type": "stream",
          "name": "stdout",
          "text": [
            "Drive already mounted at /content/drive; to attempt to forcibly remount, call drive.mount(\"/content/drive\", force_remount=True).\n"
          ]
        }
      ]
    },
    {
      "cell_type": "code",
      "metadata": {
        "id": "lzb98zN6wxhQ"
      },
      "source": [
        "import torch\n",
        "import torch.nn as nn\n",
        "\n",
        "from torch.utils.data import DataLoader \n",
        "from torchvision import datasets,transforms\n",
        "\n",
        "import os\n",
        "import matplotlib.pyplot as plt"
      ],
      "execution_count": null,
      "outputs": []
    },
    {
      "cell_type": "code",
      "metadata": {
        "id": "wtYAbqjWw1Fn"
      },
      "source": [
        "train_transformer=transforms.Compose([\n",
        "              transforms.Resize((256,256)),\n",
        "              transforms.ToTensor()\n",
        "])"
      ],
      "execution_count": null,
      "outputs": []
    },
    {
      "cell_type": "code",
      "metadata": {
        "id": "MPoIzWL0w4Fi"
      },
      "source": [
        "test_transformer=transforms.Compose([\n",
        "              transforms.Resize((256,256)),\n",
        "              transforms.ToTensor(),\n",
        "])"
      ],
      "execution_count": null,
      "outputs": []
    },
    {
      "cell_type": "code",
      "metadata": {
        "id": "p4_fdVWNzqi9"
      },
      "source": [
        "class_names=[\"NOT WEED\",\"WEED\"]"
      ],
      "execution_count": null,
      "outputs": []
    },
    {
      "cell_type": "code",
      "metadata": {
        "id": "gVIr5qvDw6nn"
      },
      "source": [
        "base_path='/content/drive/MyDrive/DATASETS/'\n",
        "\n",
        "training_data=datasets.ImageFolder(os.path.join(base_path,'TRAIN'),transform=train_transformer)\n",
        "testing_data=datasets.ImageFolder(os.path.join(base_path,'TEST'),transform=test_transformer)"
      ],
      "execution_count": null,
      "outputs": []
    },
    {
      "cell_type": "code",
      "metadata": {
        "id": "JKa6bGqAw9sK"
      },
      "source": [
        "training_loader=DataLoader(training_data,batch_size=32,shuffle=True)\n",
        "testing_loader=DataLoader(testing_data,batch_size=32)"
      ],
      "execution_count": null,
      "outputs": []
    },
    {
      "cell_type": "code",
      "metadata": {
        "id": "LlshQaYkxAOk"
      },
      "source": [
        "class Network(nn.Module):\n",
        "  def __init__(self):\n",
        "    super(Network,self).__init__()\n",
        "\n",
        "    self.conv_layer1=nn.Conv2d(in_channels=3,out_channels=6,kernel_size=3,stride=1,padding=1)\n",
        "    self.batchnorm1=nn.BatchNorm2d(6)\n",
        "\n",
        "    self.conv_layer2=nn.Conv2d(in_channels=6,out_channels=9,kernel_size=3,stride=1,padding=1)\n",
        "    self.batchnorm2=nn.BatchNorm2d(9)\n",
        "\n",
        "    self.conv_layer3=nn.Conv2d(in_channels=9,out_channels=12,kernel_size=3,stride=1,padding=1)\n",
        "    self.batchnorm3=nn.BatchNorm2d(12)\n",
        "\n",
        "    \n",
        "    self.conv_layer4=nn.Conv2d(in_channels=12,out_channels=16,kernel_size=3,stride=1,padding=1)\n",
        "    self.batchnorm4=nn.BatchNorm2d(16)\n",
        "\n",
        "    \n",
        "    self.conv_layer5=nn.Conv2d(in_channels=16,out_channels=32,kernel_size=3,stride=1,padding=1)\n",
        "    self.batchnorm5=nn.BatchNorm2d(32)\n",
        "\n",
        "    \n",
        "\n",
        "    self.fully_connected1=nn.Linear(8*8*32,256)\n",
        "    self.fully_connected2=nn.Linear(256,64)\n",
        "    self.fully_connected3=nn.Linear(64,2)\n",
        "\n",
        "    self.dropout_layer=nn.Dropout(p=0.5)\n",
        "\n",
        "    self.relu_layer=nn.ReLU()\n",
        "    self.maxpool_layer=nn.MaxPool2d(kernel_size=2)\n",
        "\n",
        "  def forward(self,input):\n",
        "\n",
        "    output=self.conv_layer1(input)\n",
        "    output=self.batchnorm1(output)\n",
        "    output=self.relu_layer(output)\n",
        "    output=self.maxpool_layer(output)\n",
        "\n",
        "    output=self.conv_layer2(output)\n",
        "    output=self.batchnorm2(output)\n",
        "    output=self.relu_layer(output)\n",
        "    output=self.maxpool_layer(output)\n",
        "\n",
        "    output=self.conv_layer3(output)\n",
        "    output=self.batchnorm3(output)\n",
        "    output=self.relu_layer(output)\n",
        "    output=self.maxpool_layer(output)\n",
        "\n",
        "    output=self.conv_layer4(output)\n",
        "    output=self.batchnorm4(output)\n",
        "    output=self.relu_layer(output)\n",
        "    output=self.maxpool_layer(output)\n",
        "\n",
        "    output=self.conv_layer5(output)\n",
        "    output=self.batchnorm5(output)\n",
        "    output=self.relu_layer(output)\n",
        "    output=self.maxpool_layer(output)\n",
        "\n",
        "    output=output.view(-1,8*8*32)\n",
        "\n",
        "    output=self.fully_connected1(output)\n",
        "    output=self.relu_layer(output)\n",
        "    output=self.dropout_layer(output)\n",
        "\n",
        "    output=self.fully_connected2(output)\n",
        "    output=self.relu_layer(output)\n",
        "    output=self.dropout_layer(output)\n",
        "    \n",
        "    output=self.fully_connected3(output)\n",
        "\n",
        "    return output"
      ],
      "execution_count": null,
      "outputs": []
    },
    {
      "cell_type": "code",
      "metadata": {
        "id": "wv2_pTIAxRWU"
      },
      "source": [
        "model=Network()\n",
        "loss_function=nn.CrossEntropyLoss() \n",
        "optimizer=torch.optim.Adam(model.parameters(),lr=0.001)"
      ],
      "execution_count": null,
      "outputs": []
    },
    {
      "cell_type": "code",
      "metadata": {
        "id": "0tXZ19CXxV1Q"
      },
      "source": [
        "epochs=50\n",
        "training_loss=[]\n",
        "training_accuracy=[]\n",
        "testing_loss=[]\n",
        "testing_accuracy=[]"
      ],
      "execution_count": null,
      "outputs": []
    },
    {
      "cell_type": "code",
      "metadata": {
        "colab": {
          "base_uri": "https://localhost:8080/"
        },
        "id": "lMslj2brxaVI",
        "outputId": "9678232c-c481-469f-9116-f55bf38d29e0"
      },
      "source": [
        "for epoch in range(epochs):\n",
        "\n",
        "  correct_count=0\n",
        "  iterations=0\n",
        "  iter_loss=0.0\n",
        "\n",
        "  model.train()\n",
        "\n",
        "  for index,(inputs,labels) in enumerate(training_loader):\n",
        "    \n",
        "    output=model(inputs)\n",
        "    \n",
        "    loss=loss_function(output,labels)\n",
        "    iter_loss+=loss.item()\n",
        "\n",
        "    optimizer.zero_grad()\n",
        "    loss.backward()\n",
        "    optimizer.step()\n",
        "\n",
        "    _, predictions=torch.max(output,1)\n",
        "\n",
        "\n",
        "    \n",
        "    correct_count+=(predictions==labels).sum()\n",
        "    iterations+=1\n",
        "\n",
        "  training_loss.append(iter_loss/iterations)\n",
        "  training_accuracy.append(100*correct_count/len(training_data))\n",
        "\n",
        "\n",
        "  testing_lossval=0.0\n",
        "  correct_count=0\n",
        "  iterations=0\n",
        "\n",
        "  model.eval()\n",
        "\n",
        "  print()\n",
        "  for index,(inputs,labels) in enumerate(testing_loader):\n",
        "      \n",
        "\n",
        "      output=model(inputs)\n",
        "      loss=loss_function(output,labels)    \n",
        "      testing_lossval+=loss.item()\n",
        "      \n",
        "      _, predictions=torch.max(output,1)\n",
        "      correct_count+=(predictions==labels).sum()\n",
        "      iterations+=1\n",
        "      \n",
        "  testing_loss.append(testing_lossval/iterations)\n",
        "  testing_accuracy.append(100*correct_count/len(testing_data))\n",
        "  print()\n",
        "  print(\"Epoch {}/{}, Training Loss {:.3f}, Training Accuracy:{:.3f},  Testing Loss:{:.3f}, Testing Accuracy:{:.3f}\".format(epoch+1,epochs,training_loss[-1],training_accuracy[-1],testing_loss[-1],testing_accuracy[-1]))"
      ],
      "execution_count": null,
      "outputs": [
        {
          "output_type": "stream",
          "name": "stderr",
          "text": [
            "/usr/local/lib/python3.7/dist-packages/torch/nn/functional.py:718: UserWarning: Named tensors and all their associated APIs are an experimental feature and subject to change. Please do not use them for anything important until they are released as stable. (Triggered internally at  /pytorch/c10/core/TensorImpl.h:1156.)\n",
            "  return torch.max_pool2d(input, kernel_size, stride, padding, dilation, ceil_mode)\n"
          ]
        },
        {
          "output_type": "stream",
          "name": "stdout",
          "text": [
            "\n",
            "\n",
            "Epoch 1/50, Training Loss 0.640, Training Accuracy:63.583,  Testing Loss:0.514, Testing Accuracy:84.219\n",
            "\n",
            "\n",
            "Epoch 2/50, Training Loss 0.539, Training Accuracy:75.708,  Testing Loss:0.524, Testing Accuracy:79.688\n",
            "\n",
            "\n",
            "Epoch 3/50, Training Loss 0.504, Training Accuracy:77.750,  Testing Loss:0.421, Testing Accuracy:85.312\n",
            "\n",
            "\n",
            "Epoch 4/50, Training Loss 0.468, Training Accuracy:80.208,  Testing Loss:0.361, Testing Accuracy:85.625\n",
            "\n",
            "\n",
            "Epoch 5/50, Training Loss 0.450, Training Accuracy:80.458,  Testing Loss:0.349, Testing Accuracy:85.938\n",
            "\n",
            "\n",
            "Epoch 6/50, Training Loss 0.415, Training Accuracy:82.542,  Testing Loss:0.311, Testing Accuracy:88.125\n",
            "\n",
            "\n",
            "Epoch 7/50, Training Loss 0.386, Training Accuracy:83.500,  Testing Loss:0.390, Testing Accuracy:83.906\n",
            "\n",
            "\n",
            "Epoch 8/50, Training Loss 0.383, Training Accuracy:83.625,  Testing Loss:0.308, Testing Accuracy:87.188\n",
            "\n",
            "\n",
            "Epoch 9/50, Training Loss 0.383, Training Accuracy:84.792,  Testing Loss:0.383, Testing Accuracy:83.594\n",
            "\n",
            "\n",
            "Epoch 10/50, Training Loss 0.361, Training Accuracy:86.875,  Testing Loss:0.209, Testing Accuracy:92.031\n",
            "\n",
            "\n",
            "Epoch 11/50, Training Loss 0.351, Training Accuracy:87.083,  Testing Loss:0.293, Testing Accuracy:85.781\n",
            "\n",
            "\n",
            "Epoch 12/50, Training Loss 0.320, Training Accuracy:87.542,  Testing Loss:0.243, Testing Accuracy:90.156\n",
            "\n",
            "\n",
            "Epoch 13/50, Training Loss 0.325, Training Accuracy:86.667,  Testing Loss:0.217, Testing Accuracy:91.562\n",
            "\n",
            "\n",
            "Epoch 14/50, Training Loss 0.312, Training Accuracy:87.167,  Testing Loss:0.260, Testing Accuracy:90.469\n",
            "\n",
            "\n",
            "Epoch 15/50, Training Loss 0.307, Training Accuracy:86.958,  Testing Loss:0.473, Testing Accuracy:76.094\n",
            "\n",
            "\n",
            "Epoch 16/50, Training Loss 0.278, Training Accuracy:88.625,  Testing Loss:0.218, Testing Accuracy:89.844\n",
            "\n",
            "\n",
            "Epoch 17/50, Training Loss 0.266, Training Accuracy:89.458,  Testing Loss:0.399, Testing Accuracy:80.000\n",
            "\n",
            "\n",
            "Epoch 18/50, Training Loss 0.267, Training Accuracy:89.292,  Testing Loss:0.210, Testing Accuracy:92.969\n",
            "\n",
            "\n",
            "Epoch 19/50, Training Loss 0.251, Training Accuracy:90.208,  Testing Loss:0.187, Testing Accuracy:93.594\n",
            "\n",
            "\n",
            "Epoch 20/50, Training Loss 0.255, Training Accuracy:90.083,  Testing Loss:0.267, Testing Accuracy:89.688\n",
            "\n",
            "\n",
            "Epoch 21/50, Training Loss 0.254, Training Accuracy:89.958,  Testing Loss:0.229, Testing Accuracy:90.781\n",
            "\n",
            "\n",
            "Epoch 22/50, Training Loss 0.250, Training Accuracy:90.667,  Testing Loss:0.192, Testing Accuracy:93.281\n",
            "\n",
            "\n",
            "Epoch 23/50, Training Loss 0.231, Training Accuracy:91.333,  Testing Loss:0.227, Testing Accuracy:90.781\n",
            "\n",
            "\n",
            "Epoch 24/50, Training Loss 0.206, Training Accuracy:92.625,  Testing Loss:0.237, Testing Accuracy:91.094\n",
            "\n",
            "\n",
            "Epoch 25/50, Training Loss 0.187, Training Accuracy:92.500,  Testing Loss:0.195, Testing Accuracy:92.812\n",
            "\n",
            "\n",
            "Epoch 26/50, Training Loss 0.180, Training Accuracy:93.292,  Testing Loss:0.338, Testing Accuracy:85.312\n",
            "\n",
            "\n",
            "Epoch 27/50, Training Loss 0.212, Training Accuracy:91.958,  Testing Loss:0.337, Testing Accuracy:83.906\n",
            "\n",
            "\n",
            "Epoch 28/50, Training Loss 0.197, Training Accuracy:92.792,  Testing Loss:0.320, Testing Accuracy:84.688\n",
            "\n",
            "\n",
            "Epoch 29/50, Training Loss 0.163, Training Accuracy:93.542,  Testing Loss:0.228, Testing Accuracy:91.719\n",
            "\n",
            "\n",
            "Epoch 30/50, Training Loss 0.174, Training Accuracy:92.875,  Testing Loss:0.336, Testing Accuracy:89.688\n",
            "\n",
            "\n",
            "Epoch 31/50, Training Loss 0.164, Training Accuracy:93.250,  Testing Loss:0.205, Testing Accuracy:92.344\n",
            "\n",
            "\n",
            "Epoch 32/50, Training Loss 0.148, Training Accuracy:94.333,  Testing Loss:0.326, Testing Accuracy:84.688\n",
            "\n",
            "\n",
            "Epoch 33/50, Training Loss 0.156, Training Accuracy:93.875,  Testing Loss:0.246, Testing Accuracy:88.906\n",
            "\n",
            "\n",
            "Epoch 34/50, Training Loss 0.158, Training Accuracy:93.917,  Testing Loss:0.243, Testing Accuracy:91.094\n",
            "\n",
            "\n",
            "Epoch 35/50, Training Loss 0.123, Training Accuracy:95.000,  Testing Loss:0.220, Testing Accuracy:91.562\n",
            "\n",
            "\n",
            "Epoch 36/50, Training Loss 0.112, Training Accuracy:96.167,  Testing Loss:0.232, Testing Accuracy:91.875\n",
            "\n",
            "\n",
            "Epoch 37/50, Training Loss 0.125, Training Accuracy:95.500,  Testing Loss:0.300, Testing Accuracy:90.000\n",
            "\n",
            "\n",
            "Epoch 38/50, Training Loss 0.132, Training Accuracy:94.500,  Testing Loss:0.281, Testing Accuracy:90.625\n",
            "\n",
            "\n",
            "Epoch 39/50, Training Loss 0.128, Training Accuracy:95.042,  Testing Loss:0.267, Testing Accuracy:91.406\n",
            "\n",
            "\n",
            "Epoch 40/50, Training Loss 0.096, Training Accuracy:96.667,  Testing Loss:0.235, Testing Accuracy:93.125\n",
            "\n",
            "\n",
            "Epoch 41/50, Training Loss 0.095, Training Accuracy:96.292,  Testing Loss:0.354, Testing Accuracy:88.906\n",
            "\n",
            "\n",
            "Epoch 42/50, Training Loss 0.121, Training Accuracy:94.917,  Testing Loss:0.308, Testing Accuracy:92.500\n",
            "\n",
            "\n",
            "Epoch 43/50, Training Loss 0.112, Training Accuracy:95.667,  Testing Loss:0.259, Testing Accuracy:93.125\n",
            "\n",
            "\n",
            "Epoch 44/50, Training Loss 0.093, Training Accuracy:96.792,  Testing Loss:0.214, Testing Accuracy:93.125\n",
            "\n",
            "\n",
            "Epoch 45/50, Training Loss 0.121, Training Accuracy:96.167,  Testing Loss:0.234, Testing Accuracy:91.562\n",
            "\n",
            "\n",
            "Epoch 46/50, Training Loss 0.079, Training Accuracy:97.000,  Testing Loss:0.266, Testing Accuracy:92.969\n",
            "\n",
            "\n",
            "Epoch 47/50, Training Loss 0.127, Training Accuracy:95.458,  Testing Loss:0.284, Testing Accuracy:92.656\n",
            "\n",
            "\n",
            "Epoch 48/50, Training Loss 0.074, Training Accuracy:96.917,  Testing Loss:0.250, Testing Accuracy:93.125\n",
            "\n",
            "\n",
            "Epoch 49/50, Training Loss 0.087, Training Accuracy:96.542,  Testing Loss:0.297, Testing Accuracy:90.469\n",
            "\n",
            "\n",
            "Epoch 50/50, Training Loss 0.087, Training Accuracy:96.500,  Testing Loss:0.224, Testing Accuracy:93.281\n"
          ]
        }
      ]
    },
    {
      "cell_type": "code",
      "metadata": {
        "id": "7vHzLj8MyF0Y"
      },
      "source": [
        "torch.save(model.state_dict(),'/content/drive/MyDrive/weed_detection_model.pth')"
      ],
      "execution_count": null,
      "outputs": []
    },
    {
      "cell_type": "markdown",
      "metadata": {
        "id": "DEVIAew5n_25"
      },
      "source": [
        ""
      ]
    },
    {
      "cell_type": "code",
      "metadata": {
        "colab": {
          "base_uri": "https://localhost:8080/",
          "height": 265
        },
        "id": "C1LN6G4_NYD6",
        "outputId": "25cbb161-2d9f-40ce-b26a-0e6f9c284853"
      },
      "source": [
        "plt.plot(training_loss,label=\"Training Loss\")\n",
        "plt.plot(testing_loss,label=\"Testing Loss\")\n",
        "plt.legend()\n",
        "plt.show()"
      ],
      "execution_count": null,
      "outputs": [
        {
          "output_type": "display_data",
          "data": {
            "image/png": "[encoded data removed]",
            "text/plain": [
              "<Figure size 432x288 with 1 Axes>"
            ]
          },
          "metadata": {
            "needs_background": "light"
          }
        }
      ]
    },
    {
      "cell_type": "code",
      "metadata": {
        "colab": {
          "base_uri": "https://localhost:8080/",
          "height": 265
        },
        "id": "vBYikjwnNf5g",
        "outputId": "ebe78318-84a2-46a9-af52-667c551426b4"
      },
      "source": [
        "plt.plot(training_accuracy,label=\"Training Accuracy\")\n",
        "plt.plot(testing_accuracy,label=\"Testing Accuracy\")\n",
        "plt.legend()\n",
        "plt.show()"
      ],
      "execution_count": null,
      "outputs": [
        {
          "output_type": "display_data",
          "data": {
            "image/png": "[encoded data removed]",
            "text/plain": [
              "<Figure size 432x288 with 1 Axes>"
            ]
          },
          "metadata": {
            "needs_background": "light"
          }
        }
      ]
    }
  ]
}